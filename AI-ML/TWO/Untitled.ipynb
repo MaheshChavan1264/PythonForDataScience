{
 "cells": [
  {
   "cell_type": "code",
   "execution_count": 37,
   "metadata": {},
   "outputs": [],
   "source": [
    "import numpy as np\n",
    "def tanh(x):\n",
    "    return(np.exp(x)-np.exp(-x))/(np.exp(x)+np.exp(-x))\n",
    "def tanh_derivative(x):\n",
    "    return(1-((np.exp(x)-np.exp(-x))/(np.exp(x)+np.exp(-x)))**2)"
   ]
  },
  {
   "cell_type": "code",
   "execution_count": 38,
   "metadata": {},
   "outputs": [
    {
     "name": "stdout",
     "output_type": "stream",
     "text": [
      "Random Starting synaptic weights: \n",
      "[[-0.16595599]\n",
      " [ 0.44064899]\n",
      " [-0.99977125]]\n"
     ]
    }
   ],
   "source": [
    "import numpy as np\n",
    "training_inputs = np.array([[0,0,1],\n",
    "                            [1,1,1],\n",
    "                            [1,0,1],\n",
    "                            [0,1,1]])\n",
    "training_outputs = np.array([[0,1,1,0]]).T\n",
    "np.random.seed(1)\n",
    "synaptic_weights = 2*np.random.random((3,1))-1\n",
    "print('Random Starting synaptic weights: ')\n",
    "print(synaptic_weights)\n",
    "\n"
   ]
  },
  {
   "cell_type": "code",
   "execution_count": 39,
   "metadata": {},
   "outputs": [],
   "source": [
    "\n",
    "for iteration in range(1):\n",
    "    input_layer = training_inputs\n",
    "    outputs=ReLU(np.dot(input_layer,synaptic_weights))\n",
    "    error=training_outputs-outputs\n",
    "    adjustments=error*dReLU(outputs)\n",
    "    synaptic_weights=synaptic_weights + np.dot(input_layer.T,adjustments)\n"
   ]
  },
  {
   "cell_type": "code",
   "execution_count": 40,
   "metadata": {},
   "outputs": [
    {
     "name": "stdout",
     "output_type": "stream",
     "text": [
      "Synaptic_weights after training:\n",
      "[[-0.16595599]\n",
      " [ 0.44064899]\n",
      " [-0.99977125]]\n",
      "Outputs after 1 iterations:\n",
      "[[0.]\n",
      " [0.]\n",
      " [0.]\n",
      " [0.]]\n"
     ]
    }
   ],
   "source": [
    "print('Synaptic_weights after training:')\n",
    "print(synaptic_weights)\n",
    "\n",
    "print('Outputs after 1 iterations:')\n",
    "print(outputs)"
   ]
  },
  {
   "cell_type": "code",
   "execution_count": 29,
   "metadata": {},
   "outputs": [
    {
     "name": "stdout",
     "output_type": "stream",
     "text": [
      "Outputs after 2nd iterations:\n",
      "[[-0.38944444]\n",
      " [ 0.9774006 ]\n",
      " [ 0.91429317]\n",
      " [ 0.26509163]]\n"
     ]
    }
   ],
   "source": [
    "\n",
    "for iteration in range(2):\n",
    "    input_layer = training_inputs\n",
    "    outputs=tanh(np.dot(input_layer,synaptic_weights))\n",
    "    error=training_outputs-outputs\n",
    "    adjustments=error*tanh_derivative(outputs)\n",
    "    synaptic_weights=synaptic_weights + np.dot(input_layer.T,adjustments)\n",
    "print('Outputs after 2nd iterations:')\n",
    "print(outputs)"
   ]
  },
  {
   "cell_type": "code",
   "execution_count": 30,
   "metadata": {},
   "outputs": [
    {
     "name": "stdout",
     "output_type": "stream",
     "text": [
      "Outputs after 10th iterations:\n",
      "[[0.31155067]\n",
      " [0.99227668]\n",
      " [0.98862666]\n",
      " [0.47514336]]\n"
     ]
    }
   ],
   "source": [
    "\n",
    "for iteration in range(10):\n",
    "    input_layer = training_inputs\n",
    "    outputs=tanh(np.dot(input_layer,synaptic_weights))\n",
    "    error=training_outputs-outputs\n",
    "    adjustments=error*tanh_derivative(outputs)\n",
    "    synaptic_weights=synaptic_weights + np.dot(input_layer.T,adjustments)\n",
    "print('Outputs after 10th iterations:')\n",
    "print(outputs)"
   ]
  },
  {
   "cell_type": "code",
   "execution_count": 31,
   "metadata": {},
   "outputs": [
    {
     "name": "stdout",
     "output_type": "stream",
     "text": [
      "Outputs after 5000 iterations:\n",
      "[[0.33037173]\n",
      " [0.99997198]\n",
      " [0.99995862]\n",
      " [0.49158032]]\n"
     ]
    }
   ],
   "source": [
    "\n",
    "for iteration in range(5000):\n",
    "    input_layer = training_inputs\n",
    "    outputs=tanh(np.dot(input_layer,synaptic_weights))\n",
    "    error=training_outputs-outputs\n",
    "    adjustments=error*tanh_derivative(outputs)\n",
    "    synaptic_weights=synaptic_weights + np.dot(input_layer.T,adjustments)\n",
    "print('Outputs after 5000 iterations:')\n",
    "print(outputs)"
   ]
  },
  {
   "cell_type": "code",
   "execution_count": 32,
   "metadata": {},
   "outputs": [
    {
     "name": "stdout",
     "output_type": "stream",
     "text": [
      "Outputs after 10000 iterations:\n",
      "[[0.33025048]\n",
      " [0.99999744]\n",
      " [0.99999622]\n",
      " [0.49137694]]\n"
     ]
    }
   ],
   "source": [
    "\n",
    "for iteration in range(50000):\n",
    "    input_layer = training_inputs\n",
    "    outputs=tanh(np.dot(input_layer,synaptic_weights))\n",
    "    error=training_outputs-outputs\n",
    "    adjustments=error*tanh_derivative(outputs)\n",
    "    synaptic_weights=synaptic_weights + np.dot(input_layer.T,adjustments)\n",
    "print('Outputs after 10000 iterations:')\n",
    "print(outputs)"
   ]
  },
  {
   "cell_type": "code",
   "execution_count": null,
   "metadata": {},
   "outputs": [],
   "source": []
  }
 ],
 "metadata": {
  "kernelspec": {
   "display_name": "Python 3",
   "language": "python",
   "name": "python3"
  },
  "language_info": {
   "codemirror_mode": {
    "name": "ipython",
    "version": 3
   },
   "file_extension": ".py",
   "mimetype": "text/x-python",
   "name": "python",
   "nbconvert_exporter": "python",
   "pygments_lexer": "ipython3",
   "version": "3.7.4"
  }
 },
 "nbformat": 4,
 "nbformat_minor": 4
}
