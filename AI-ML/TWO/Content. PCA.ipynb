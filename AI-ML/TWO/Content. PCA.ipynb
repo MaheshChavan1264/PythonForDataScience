{
 "cells": [
  {
   "cell_type": "code",
   "execution_count": 1,
   "metadata": {},
   "outputs": [],
   "source": [
    "#importing libraries\n",
    "import pandas as pd\n",
    "import numpy as np\n",
    "import matplotlib.pyplot as plt\n",
    "import seaborn as sea\n",
    "import sklearn"
   ]
  },
  {
   "cell_type": "code",
   "execution_count": 2,
   "metadata": {},
   "outputs": [
    {
     "data": {
      "text/plain": [
       "(506, 14)"
      ]
     },
     "execution_count": 2,
     "metadata": {},
     "output_type": "execute_result"
    }
   ],
   "source": [
    "df=pd.read_csv(\"boston.csv\") #reading data\n",
    "df.shape"
   ]
  },
  {
   "cell_type": "code",
   "execution_count": 3,
   "metadata": {},
   "outputs": [
    {
     "data": {
      "text/plain": [
       "(506, 13)"
      ]
     },
     "execution_count": 3,
     "metadata": {},
     "output_type": "execute_result"
    }
   ],
   "source": [
    "data=df.drop([\"MV\"],axis=1)# removal of respond variable\n",
    "data.head()\n",
    "data.shape"
   ]
  },
  {
   "cell_type": "code",
   "execution_count": 4,
   "metadata": {},
   "outputs": [
    {
     "data": {
      "text/plain": [
       "PCA(copy=True, iterated_power='auto', n_components=4, random_state=None,\n",
       "  svd_solver='auto', tol=0.0, whiten=False)"
      ]
     },
     "execution_count": 4,
     "metadata": {},
     "output_type": "execute_result"
    }
   ],
   "source": [
    "from sklearn.decomposition import PCA\n",
    "pca = PCA(n_components=4)\n",
    "pca"
   ]
  },
  {
   "cell_type": "code",
   "execution_count": 5,
   "metadata": {},
   "outputs": [],
   "source": [
    "principalComponents = pca.fit_transform(data)\n",
    "#print(len(principalComponents))"
   ]
  },
  {
   "cell_type": "code",
   "execution_count": 6,
   "metadata": {},
   "outputs": [
    {
     "name": "stdout",
     "output_type": "stream",
     "text": [
      "[[-119.81884178   -5.56005228   -3.17269027    5.29159121]\n",
      " [-168.89015418   10.11621195  -30.78188796    1.29677685]\n",
      " [-169.31170432   14.08054265  -16.75362687  -10.27839986]\n",
      " [-190.2306444    18.30245612   -6.53419503  -19.6449212 ]\n",
      " [-190.13344982   16.09795074  -13.15852065  -14.17814023]\n",
      " [-188.95057571   18.72916471  -16.48620417  -11.33521103]\n",
      " [-104.33599903   -8.73551734   -7.3807892     1.84761855]]\n"
     ]
    }
   ],
   "source": [
    "print(principalComponents[0:7])"
   ]
  },
  {
   "cell_type": "code",
   "execution_count": 7,
   "metadata": {
    "scrolled": true
   },
   "outputs": [
    {
     "data": {
      "text/html": [
       "<div>\n",
       "<style scoped>\n",
       "    .dataframe tbody tr th:only-of-type {\n",
       "        vertical-align: middle;\n",
       "    }\n",
       "\n",
       "    .dataframe tbody tr th {\n",
       "        vertical-align: top;\n",
       "    }\n",
       "\n",
       "    .dataframe thead th {\n",
       "        text-align: right;\n",
       "    }\n",
       "</style>\n",
       "<table border=\"1\" class=\"dataframe\">\n",
       "  <thead>\n",
       "    <tr style=\"text-align: right;\">\n",
       "      <th></th>\n",
       "      <th>pc1</th>\n",
       "      <th>pc2</th>\n",
       "      <th>pc3</th>\n",
       "      <th>pc4</th>\n",
       "    </tr>\n",
       "  </thead>\n",
       "  <tbody>\n",
       "    <tr>\n",
       "      <th>0</th>\n",
       "      <td>-119.818842</td>\n",
       "      <td>-5.560052</td>\n",
       "      <td>-3.172690</td>\n",
       "      <td>5.291591</td>\n",
       "    </tr>\n",
       "    <tr>\n",
       "      <th>1</th>\n",
       "      <td>-168.890154</td>\n",
       "      <td>10.116212</td>\n",
       "      <td>-30.781888</td>\n",
       "      <td>1.296777</td>\n",
       "    </tr>\n",
       "    <tr>\n",
       "      <th>2</th>\n",
       "      <td>-169.311704</td>\n",
       "      <td>14.080543</td>\n",
       "      <td>-16.753627</td>\n",
       "      <td>-10.278400</td>\n",
       "    </tr>\n",
       "    <tr>\n",
       "      <th>3</th>\n",
       "      <td>-190.230644</td>\n",
       "      <td>18.302456</td>\n",
       "      <td>-6.534195</td>\n",
       "      <td>-19.644921</td>\n",
       "    </tr>\n",
       "    <tr>\n",
       "      <th>4</th>\n",
       "      <td>-190.133450</td>\n",
       "      <td>16.097951</td>\n",
       "      <td>-13.158521</td>\n",
       "      <td>-14.178140</td>\n",
       "    </tr>\n",
       "  </tbody>\n",
       "</table>\n",
       "</div>"
      ],
      "text/plain": [
       "          pc1        pc2        pc3        pc4\n",
       "0 -119.818842  -5.560052  -3.172690   5.291591\n",
       "1 -168.890154  10.116212 -30.781888   1.296777\n",
       "2 -169.311704  14.080543 -16.753627 -10.278400\n",
       "3 -190.230644  18.302456  -6.534195 -19.644921\n",
       "4 -190.133450  16.097951 -13.158521 -14.178140"
      ]
     },
     "execution_count": 7,
     "metadata": {},
     "output_type": "execute_result"
    }
   ],
   "source": [
    "\n",
    "pcadata = pd.DataFrame(data = principalComponents,\n",
    "              columns = ['pc1', 'pc2'\n",
    "                         ,'pc3','pc4'])\n",
    "pcadata.head()"
   ]
  },
  {
   "cell_type": "code",
   "execution_count": 8,
   "metadata": {},
   "outputs": [
    {
     "data": {
      "text/plain": [
       "array([0.80582318, 0.16305196, 0.02134861, 0.00695699])"
      ]
     },
     "execution_count": 8,
     "metadata": {},
     "output_type": "execute_result"
    }
   ],
   "source": [
    "#principalDf.head()\n",
    "pca.explained_variance_ratio_"
   ]
  },
  {
   "cell_type": "code",
   "execution_count": 9,
   "metadata": {},
   "outputs": [
    {
     "data": {
      "text/plain": [
       "(506, 3)"
      ]
     },
     "execution_count": 9,
     "metadata": {},
     "output_type": "execute_result"
    }
   ],
   "source": [
    "finaldata = pd.concat([pcadata[\"pc1\"],pcadata[\"pc2\"],df[\"MV\"]], axis = 1)\n",
    "finaldata.shape #96% of data"
   ]
  },
  {
   "cell_type": "code",
   "execution_count": 10,
   "metadata": {},
   "outputs": [
    {
     "data": {
      "text/plain": [
       "Text(0, 0.5, 'Data_explained')"
      ]
     },
     "execution_count": 10,
     "metadata": {},
     "output_type": "execute_result"
    },
    {
     "data": {
      "image/png": "[encoded data removed]",
      "text/plain": [
       "<Figure size 432x288 with 1 Axes>"
      ]
     },
     "metadata": {
      "needs_background": "light"
     },
     "output_type": "display_data"
    }
   ],
   "source": [
    "plt.plot(range(4), pca.explained_variance_ratio_,label=\"Variance-ratio\")\n",
    "plt.plot(range(4), np.cumsum(pca.explained_variance_ratio_),label=\"cumulative variance-ratio\")\n",
    "plt.title(\"Component-wise and Cumulative Explained Variance\")\n",
    "plt.xlabel(\"No.of components\")\n",
    "plt.ylabel(\"Data_explained\")"
   ]
  },
  {
   "cell_type": "code",
   "execution_count": null,
   "metadata": {},
   "outputs": [],
   "source": []
  }
 ],
 "metadata": {
  "kernelspec": {
   "display_name": "Python 3",
   "language": "python",
   "name": "python3"
  },
  "language_info": {
   "codemirror_mode": {
    "name": "ipython",
    "version": 3
   },
   "file_extension": ".py",
   "mimetype": "text/x-python",
   "name": "python",
   "nbconvert_exporter": "python",
   "pygments_lexer": "ipython3",
   "version": "3.7.4"
  }
 },
 "nbformat": 4,
 "nbformat_minor": 4
}
