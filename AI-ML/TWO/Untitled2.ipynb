{
 "cells": [
  {
   "cell_type": "code",
   "execution_count": 10,
   "metadata": {},
   "outputs": [
    {
     "name": "stdout",
     "output_type": "stream",
     "text": [
      "This is a code for simple feebforward neural network\n",
      "Random Starting synaptic weights: \n",
      "[[-0.16595599]\n",
      " [ 0.44064899]\n",
      " [-0.99977125]]\n",
      "Synaptic_weights after training:\n",
      "[[ 4.62128737]\n",
      " [-0.20338466]\n",
      " [-2.09325311]]\n",
      "Outputs after training:\n",
      "[[0.11035029]\n",
      " [0.91041229]\n",
      " [0.92564882]\n",
      " [0.09193919]]\n"
     ]
    }
   ],
   "source": [
    "print ('This is a code for simple feebforward neural network')\n",
    "import numpy as np\n",
    "# sigmoid activation function\n",
    "def sigmoid (x):\n",
    "    return 1/(1+np.exp(-x))\n",
    "def sigmoid_derivative(x):\n",
    "    return x*(1-x)\n",
    "training_inputs = np.array([[0,0,1],\n",
    "                            [1,1,1],\n",
    "                            [1,0,1],\n",
    "                            [0,1,1]])\n",
    "training_outputs = np.array([[0,1,1,0]]).T\n",
    "np.random.seed(1)\n",
    "synaptic_weights = 2*np.random.random((3,1))-1\n",
    "print('Random Starting synaptic weights: ')\n",
    "print(synaptic_weights)\n",
    "\n",
    "for iteration in range(100):\n",
    "    input_layer = training_inputs\n",
    "    outputs=sigmoid(np.dot(input_layer,synaptic_weights))\n",
    "    error=training_outputs-outputs\n",
    "    adjustments=error*sigmoid_derivative(outputs)\n",
    "    synaptic_weights=synaptic_weights + np.dot(input_layer.T,adjustments)\n",
    "\n",
    "print('Synaptic_weights after training:')\n",
    "print(synaptic_weights)\n",
    "\n",
    "print('Outputs after training:')\n",
    "print(outputs)\n"
   ]
  },
  {
   "cell_type": "code",
   "execution_count": null,
   "metadata": {},
   "outputs": [],
   "source": [
    "input_layer=training_inputs"
   ]
  },
  {
   "cell_type": "code",
   "execution_count": null,
   "metadata": {},
   "outputs": [],
   "source": [
    "outputs=sigmoid(np.dot(input_layer,synaptic_weights))"
   ]
  },
  {
   "cell_type": "code",
   "execution_count": null,
   "metadata": {},
   "outputs": [],
   "source": [
    "print(outputs)"
   ]
  },
  {
   "cell_type": "code",
   "execution_count": null,
   "metadata": {},
   "outputs": [],
   "source": []
  }
 ],
 "metadata": {
  "kernelspec": {
   "display_name": "Python 3",
   "language": "python",
   "name": "python3"
  },
  "language_info": {
   "codemirror_mode": {
    "name": "ipython",
    "version": 3
   },
   "file_extension": ".py",
   "mimetype": "text/x-python",
   "name": "python",
   "nbconvert_exporter": "python",
   "pygments_lexer": "ipython3",
   "version": "3.7.4"
  }
 },
 "nbformat": 4,
 "nbformat_minor": 4
}
