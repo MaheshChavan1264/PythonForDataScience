{
 "cells": [
  {
   "cell_type": "code",
   "execution_count": 1,
   "metadata": {},
   "outputs": [],
   "source": [
    "import numpy as np\n",
    "import pandas as pd"
   ]
  },
  {
   "cell_type": "code",
   "execution_count": 2,
   "metadata": {},
   "outputs": [],
   "source": [
    "from sklearn import datasets, linear_model\n",
    "from sklearn.metrics import mean_squared_error, r2_score"
   ]
  },
  {
   "cell_type": "markdown",
   "metadata": {},
   "source": [
    "# Linear regression"
   ]
  },
  {
   "cell_type": "code",
   "execution_count": 3,
   "metadata": {
    "scrolled": true
   },
   "outputs": [],
   "source": [
    "#importing the dataset\n",
    "dataset = pd.read_csv(\"RetailData.csv\")\n",
    "#dataset"
   ]
  },
  {
   "cell_type": "code",
   "execution_count": 4,
   "metadata": {},
   "outputs": [
    {
     "data": {
      "text/html": [
       "<div>\n",
       "<style scoped>\n",
       "    .dataframe tbody tr th:only-of-type {\n",
       "        vertical-align: middle;\n",
       "    }\n",
       "\n",
       "    .dataframe tbody tr th {\n",
       "        vertical-align: top;\n",
       "    }\n",
       "\n",
       "    .dataframe thead th {\n",
       "        text-align: right;\n",
       "    }\n",
       "</style>\n",
       "<table border=\"1\" class=\"dataframe\">\n",
       "  <thead>\n",
       "    <tr style=\"text-align: right;\">\n",
       "      <th></th>\n",
       "      <th>Order Id</th>\n",
       "      <th>Order Date</th>\n",
       "      <th>Month</th>\n",
       "      <th>Customer</th>\n",
       "      <th>Invoice Id</th>\n",
       "      <th>Product Id</th>\n",
       "      <th>Product Name</th>\n",
       "      <th>Qty</th>\n",
       "      <th>Rate</th>\n",
       "      <th>Net Amount</th>\n",
       "      <th>Tax Type</th>\n",
       "      <th>TAX</th>\n",
       "      <th>Tax Amount</th>\n",
       "      <th>Amount</th>\n",
       "    </tr>\n",
       "  </thead>\n",
       "  <tbody>\n",
       "    <tr>\n",
       "      <th>0</th>\n",
       "      <td>10067</td>\n",
       "      <td>42406</td>\n",
       "      <td>Feb</td>\n",
       "      <td>Customer 1</td>\n",
       "      <td>10075</td>\n",
       "      <td>10023</td>\n",
       "      <td>RICE STICKS 5MM 1PKT</td>\n",
       "      <td>30.0</td>\n",
       "      <td>159.5</td>\n",
       "      <td>4785.0</td>\n",
       "      <td>VAT</td>\n",
       "      <td>14.5</td>\n",
       "      <td>693.83</td>\n",
       "      <td>4785.0</td>\n",
       "    </tr>\n",
       "    <tr>\n",
       "      <th>1</th>\n",
       "      <td>10177</td>\n",
       "      <td>42443</td>\n",
       "      <td>Mar</td>\n",
       "      <td>Customer 1</td>\n",
       "      <td>10145</td>\n",
       "      <td>ITEM-CM_BLACKPEPPER</td>\n",
       "      <td>BLACK PEPPER QUALITY2 1KG</td>\n",
       "      <td>1.0</td>\n",
       "      <td>810.0</td>\n",
       "      <td>810.0</td>\n",
       "      <td>VAT</td>\n",
       "      <td>5.5</td>\n",
       "      <td>44.55</td>\n",
       "      <td>810.0</td>\n",
       "    </tr>\n",
       "    <tr>\n",
       "      <th>2</th>\n",
       "      <td>10177</td>\n",
       "      <td>42443</td>\n",
       "      <td>Mar</td>\n",
       "      <td>Customer 1</td>\n",
       "      <td>10145</td>\n",
       "      <td>10466</td>\n",
       "      <td>BASMATI RICE QUALITY1 25KG</td>\n",
       "      <td>1.0</td>\n",
       "      <td>2050.0</td>\n",
       "      <td>2050.0</td>\n",
       "      <td></td>\n",
       "      <td>0.0</td>\n",
       "      <td>0.00</td>\n",
       "      <td>2050.0</td>\n",
       "    </tr>\n",
       "    <tr>\n",
       "      <th>3</th>\n",
       "      <td>10052</td>\n",
       "      <td>42401</td>\n",
       "      <td>Feb</td>\n",
       "      <td>Customer 1</td>\n",
       "      <td>10060</td>\n",
       "      <td>10534</td>\n",
       "      <td>WALNUT QUALITY2 1KG</td>\n",
       "      <td>1.0</td>\n",
       "      <td>1317.0</td>\n",
       "      <td>1317.0</td>\n",
       "      <td>VAT</td>\n",
       "      <td>14.5</td>\n",
       "      <td>190.97</td>\n",
       "      <td>1317.0</td>\n",
       "    </tr>\n",
       "    <tr>\n",
       "      <th>4</th>\n",
       "      <td>10052</td>\n",
       "      <td>42401</td>\n",
       "      <td>Feb</td>\n",
       "      <td>Customer 1</td>\n",
       "      <td>10060</td>\n",
       "      <td>ITEM-BADAM</td>\n",
       "      <td>ALMOND 1KG</td>\n",
       "      <td>2.0</td>\n",
       "      <td>922.0</td>\n",
       "      <td>1844.0</td>\n",
       "      <td>VAT</td>\n",
       "      <td>14.5</td>\n",
       "      <td>267.38</td>\n",
       "      <td>1844.0</td>\n",
       "    </tr>\n",
       "  </tbody>\n",
       "</table>\n",
       "</div>"
      ],
      "text/plain": [
       "   Order Id  Order Date Month    Customer  Invoice Id           Product Id  \\\n",
       "0     10067       42406   Feb  Customer 1       10075                10023   \n",
       "1     10177       42443   Mar  Customer 1       10145  ITEM-CM_BLACKPEPPER   \n",
       "2     10177       42443   Mar  Customer 1       10145                10466   \n",
       "3     10052       42401   Feb  Customer 1       10060                10534   \n",
       "4     10052       42401   Feb  Customer 1       10060           ITEM-BADAM   \n",
       "\n",
       "                 Product Name   Qty    Rate  Net Amount Tax Type   TAX  \\\n",
       "0        RICE STICKS 5MM 1PKT  30.0   159.5      4785.0      VAT  14.5   \n",
       "1   BLACK PEPPER QUALITY2 1KG   1.0   810.0       810.0      VAT   5.5   \n",
       "2  BASMATI RICE QUALITY1 25KG   1.0  2050.0      2050.0            0.0   \n",
       "3         WALNUT QUALITY2 1KG   1.0  1317.0      1317.0      VAT  14.5   \n",
       "4                  ALMOND 1KG   2.0   922.0      1844.0      VAT  14.5   \n",
       "\n",
       "   Tax Amount  Amount  \n",
       "0      693.83  4785.0  \n",
       "1       44.55   810.0  \n",
       "2        0.00  2050.0  \n",
       "3      190.97  1317.0  \n",
       "4      267.38  1844.0  "
      ]
     },
     "execution_count": 4,
     "metadata": {},
     "output_type": "execute_result"
    }
   ],
   "source": [
    "dataset.head()"
   ]
  },
  {
   "cell_type": "code",
   "execution_count": 5,
   "metadata": {},
   "outputs": [],
   "source": [
    "#creating the array of independent variables\n",
    "#Column Qty,Rate and Tax amount used\n",
    "X = dataset.iloc[:, [7,8,12]].values\n",
    "#X[1:10]"
   ]
  },
  {
   "cell_type": "code",
   "execution_count": 6,
   "metadata": {},
   "outputs": [],
   "source": [
    "#Dependent variable(Total Amount)\n",
    "Y = dataset.iloc[:, [13]].values "
   ]
  },
  {
   "cell_type": "code",
   "execution_count": 7,
   "metadata": {},
   "outputs": [],
   "source": [
    "#Y"
   ]
  },
  {
   "cell_type": "code",
   "execution_count": 8,
   "metadata": {},
   "outputs": [],
   "source": [
    "from sklearn.model_selection import train_test_split"
   ]
  },
  {
   "cell_type": "code",
   "execution_count": 9,
   "metadata": {},
   "outputs": [],
   "source": [
    "X_train, X_test, Y_train, Y_test= train_test_split(X,\n",
    "                                                   Y,test_size=0.3,\n",
    "                                                   random_state=1)"
   ]
  },
  {
   "cell_type": "code",
   "execution_count": 10,
   "metadata": {},
   "outputs": [],
   "source": [
    "##linear regression\n",
    "model = linear_model.LinearRegression()# assigning linear regression model to a variable model\n"
   ]
  },
  {
   "cell_type": "code",
   "execution_count": 11,
   "metadata": {},
   "outputs": [
    {
     "data": {
      "text/plain": [
       "LinearRegression(copy_X=True, fit_intercept=True, n_jobs=None,\n",
       "         normalize=False)"
      ]
     },
     "execution_count": 11,
     "metadata": {},
     "output_type": "execute_result"
    }
   ],
   "source": [
    "model.fit(X_train,Y_train)# fitting independent variables x_train and dependent variable y_train to model"
   ]
  },
  {
   "cell_type": "code",
   "execution_count": 12,
   "metadata": {},
   "outputs": [
    {
     "name": "stdout",
     "output_type": "stream",
     "text": [
      "Coefficients: \n",
      " [[22.53209264  1.08540502 12.41137829]]\n",
      "Intercept:\n",
      " [157.93797077]\n"
     ]
    }
   ],
   "source": [
    "# The coefficients\n",
    "print('Coefficients: \\n', model.coef_)\n",
    "print('Intercept:\\n',model.intercept_)\n",
    "\n",
    "#print('Residuals is ', model.residues_)"
   ]
  },
  {
   "cell_type": "code",
   "execution_count": 13,
   "metadata": {},
   "outputs": [],
   "source": [
    "#predicted values\n",
    "predicted = model.predict(X_test)\n",
    "#predicted[0:5]"
   ]
  },
  {
   "cell_type": "code",
   "execution_count": 14,
   "metadata": {},
   "outputs": [
    {
     "name": "stdout",
     "output_type": "stream",
     "text": [
      "Mean squared error: 840682.00\n"
     ]
    }
   ],
   "source": [
    "# The mean squared error\n",
    "print(\"Mean squared error: %.2f\" % mean_squared_error(Y_test, predicted))\n",
    "# Explained variance score: 1 is perfect prediction\n",
    "#print(\"R Square score: %.2f\" % r2_score(Y_test, predicted))"
   ]
  },
  {
   "cell_type": "markdown",
   "metadata": {},
   "source": []
  }
 ],
 "metadata": {
  "kernelspec": {
   "display_name": "Python 3",
   "language": "python",
   "name": "python3"
  },
  "language_info": {
   "codemirror_mode": {
    "name": "ipython",
    "version": 3
   },
   "file_extension": ".py",
   "mimetype": "text/x-python",
   "name": "python",
   "nbconvert_exporter": "python",
   "pygments_lexer": "ipython3",
   "version": "3.7.1"
  }
 },
 "nbformat": 4,
 "nbformat_minor": 2
}
