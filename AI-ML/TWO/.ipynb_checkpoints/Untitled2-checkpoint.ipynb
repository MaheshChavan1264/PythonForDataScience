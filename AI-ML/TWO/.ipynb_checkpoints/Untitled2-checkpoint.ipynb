{
 "cells": [
  {
   "cell_type": "code",
   "execution_count": 3,
   "metadata": {},
   "outputs": [
    {
     "name": "stdout",
     "output_type": "stream",
     "text": [
      "This is a code for simple feebforward neural network\n",
      "Random Starting synaptic weights: \n",
      "[[-0.16595599]\n",
      " [ 0.44064899]\n",
      " [-0.99977125]]\n",
      "Synaptic_weights after training:\n",
      "[[13.62648646]\n",
      " [-0.20348866]\n",
      " [-6.60991108]]\n",
      "Outputs after training:\n",
      "[[0.00134514]\n",
      " [0.99890191]\n",
      " [0.99910391]\n",
      " [0.00109775]]\n"
     ]
    }
   ],
   "source": [
    "print ('This is a code for simple feebforward neural network')\n",
    "import numpy as np\n",
    "# sigmoid activation function\n",
    "def sigmoid (x):\n",
    "    return 1/(1+np.exp(-x))\n",
    "def sigmoid_derivative(x):\n",
    "    return x*(1-x)\n",
    "\n",
    "def ReLU(z):\n",
    "    return max(z)\n",
    "\n",
    "def ReLU_derivative(z):\n",
    "    return 1 if z>0 else 0\n",
    "training_inputs = np.array([[0,0,1],\n",
    "                            [1,1,1],\n",
    "                            [1,0,1],\n",
    "                            [0,1,1]])\n",
    "training_outputs = np.array([[0,1,1,0]]).T\n",
    "np.random.seed(1)\n",
    "synaptic_weights = 2*np.random.random((3,1))-1\n",
    "print('Random Starting synaptic weights: ')\n",
    "print(synaptic_weights)\n",
    "\n",
    "for iteration in range(500000):\n",
    "    input_layer = training_inputs\n",
    "    outputs=sigmoid(np.dot(input_layer,synaptic_weights))\n",
    "    outputs1=ReLU(np.dot(input_layer,synaptic_weights))\n",
    "    error=training_outputs-outputs\n",
    "    error1=training_outputs-outputs1\n",
    "    adjustments=error*sigmoid_derivative(outputs)\n",
    "    adjustments1=error1*sigmoid_derivative(outputs1)\n",
    "    synaptic_weights=synaptic_weights + np.dot(input_layer.T,adjustments)\n",
    "\n",
    "print('Synaptic_weights after training:')\n",
    "print(synaptic_weights)\n",
    "\n",
    "print('Outputs after training:')\n",
    "print(outputs)\n"
   ]
  },
  {
   "cell_type": "code",
   "execution_count": null,
   "metadata": {},
   "outputs": [],
   "source": [
    "input_layer=training_inputs"
   ]
  },
  {
   "cell_type": "code",
   "execution_count": null,
   "metadata": {},
   "outputs": [],
   "source": [
    "outputs=sigmoid(np.dot(input_layer,synaptic_weights))"
   ]
  },
  {
   "cell_type": "code",
   "execution_count": null,
   "metadata": {},
   "outputs": [],
   "source": [
    "print(outputs)"
   ]
  },
  {
   "cell_type": "code",
   "execution_count": null,
   "metadata": {},
   "outputs": [],
   "source": []
  }
 ],
 "metadata": {
  "kernelspec": {
   "display_name": "Python 3",
   "language": "python",
   "name": "python3"
  },
  "language_info": {
   "codemirror_mode": {
    "name": "ipython",
    "version": 3
   },
   "file_extension": ".py",
   "mimetype": "text/x-python",
   "name": "python",
   "nbconvert_exporter": "python",
   "pygments_lexer": "ipython3",
   "version": "3.7.4"
  }
 },
 "nbformat": 4,
 "nbformat_minor": 4
}
