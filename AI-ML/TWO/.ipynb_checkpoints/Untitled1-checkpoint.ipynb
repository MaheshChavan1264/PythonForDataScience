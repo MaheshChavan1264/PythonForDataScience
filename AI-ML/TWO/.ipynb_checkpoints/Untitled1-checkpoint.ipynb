{
 "cells": [
  {
   "cell_type": "code",
   "execution_count": 1,
   "metadata": {},
   "outputs": [],
   "source": [
    "import numpy as np\n"
   ]
  },
  {
   "cell_type": "code",
   "execution_count": 2,
   "metadata": {},
   "outputs": [],
   "source": [
    "def ReLU(z):\n",
    "    a=max(0,z[0])\n",
    "    b=max(0,z[1])\n",
    "    c=max(0,z[2])\n",
    "    d=max(0,z[3])\n",
    "    return([a,b,c,d])\n",
    "def ReLU_derivative(z):\n",
    "    if z[0]>0:\n",
    "        e=1\n",
    "    elif z[1]>0:\n",
    "        f=1\n",
    "    elif z[2]>0:\n",
    "        g=1\n",
    "    elif z[3]>0:\n",
    "        h=1\n",
    "    else:\n",
    "        return 0\n",
    "    return([e,f,g,h])\n",
    "    "
   ]
  },
  {
   "cell_type": "code",
   "execution_count": 3,
   "metadata": {},
   "outputs": [],
   "source": [
    "training_inputs = np.array([[0,0,1],\n",
    "                            [1,1,1],\n",
    "                            [1,0,1],\n",
    "                            [0,1,1]])\n",
    "training_outputs = np.array([[0,1,1,0]]).T\n"
   ]
  },
  {
   "cell_type": "code",
   "execution_count": 4,
   "metadata": {},
   "outputs": [],
   "source": [
    "np.random.seed(1)\n"
   ]
  },
  {
   "cell_type": "code",
   "execution_count": 5,
   "metadata": {},
   "outputs": [
    {
     "name": "stdout",
     "output_type": "stream",
     "text": [
      "Random Starting synaptic weights: \n",
      "[[-0.16595599]\n",
      " [ 0.44064899]\n",
      " [-0.99977125]]\n"
     ]
    }
   ],
   "source": [
    "synaptic_weights = 2*np.random.random((3,1))-1\n",
    "print('Random Starting synaptic weights: ')\n",
    "print(synaptic_weights)\n"
   ]
  },
  {
   "cell_type": "code",
   "execution_count": null,
   "metadata": {},
   "outputs": [],
   "source": []
  }
 ],
 "metadata": {
  "kernelspec": {
   "display_name": "Python 3",
   "language": "python",
   "name": "python3"
  },
  "language_info": {
   "codemirror_mode": {
    "name": "ipython",
    "version": 3
   },
   "file_extension": ".py",
   "mimetype": "text/x-python",
   "name": "python",
   "nbconvert_exporter": "python",
   "pygments_lexer": "ipython3",
   "version": "3.7.4"
  }
 },
 "nbformat": 4,
 "nbformat_minor": 4
}
